{
 "cells": [
  {
   "metadata": {},
   "cell_type": "markdown",
   "source": "# Demo project",
   "id": "230d53cdc73ab92c"
  },
  {
   "metadata": {
    "ExecuteTime": {
     "end_time": "2024-12-13T12:45:21.886103Z",
     "start_time": "2024-12-13T12:45:20.879280Z"
    }
   },
   "cell_type": "code",
   "source": "%pip install pandas numpy statsmodels scikit-learn shap matplotlib altair\n",
   "id": "56e12384027ac454",
   "outputs": [
    {
     "name": "stdout",
     "output_type": "stream",
     "text": [
      "Defaulting to user installation because normal site-packages is not writeable\r\n",
      "Requirement already satisfied: pandas in /Users/olemar/Library/Python/3.9/lib/python/site-packages (2.2.3)\r\n",
      "Requirement already satisfied: numpy in /Users/olemar/Library/Python/3.9/lib/python/site-packages (2.0.2)\r\n",
      "Requirement already satisfied: statsmodels in /Users/olemar/Library/Python/3.9/lib/python/site-packages (0.14.4)\r\n",
      "Requirement already satisfied: scikit-learn in /Users/olemar/Library/Python/3.9/lib/python/site-packages (1.5.2)\r\n",
      "Requirement already satisfied: shap in /Users/olemar/Library/Python/3.9/lib/python/site-packages (0.46.0)\r\n",
      "Requirement already satisfied: matplotlib in /Users/olemar/Library/Python/3.9/lib/python/site-packages (3.9.2)\r\n",
      "Requirement already satisfied: altair in /Users/olemar/Library/Python/3.9/lib/python/site-packages (5.5.0)\r\n",
      "Requirement already satisfied: tzdata>=2022.7 in /Users/olemar/Library/Python/3.9/lib/python/site-packages (from pandas) (2024.2)\r\n",
      "Requirement already satisfied: python-dateutil>=2.8.2 in /Library/Python/3.9/site-packages (from pandas) (2.9.0.post0)\r\n",
      "Requirement already satisfied: pytz>=2020.1 in /Users/olemar/Library/Python/3.9/lib/python/site-packages (from pandas) (2024.2)\r\n",
      "Requirement already satisfied: patsy>=0.5.6 in /Users/olemar/Library/Python/3.9/lib/python/site-packages (from statsmodels) (1.0.1)\r\n",
      "Requirement already satisfied: packaging>=21.3 in /Library/Python/3.9/site-packages (from statsmodels) (24.2)\r\n",
      "Requirement already satisfied: scipy!=1.9.2,>=1.8 in /Users/olemar/Library/Python/3.9/lib/python/site-packages (from statsmodels) (1.13.1)\r\n",
      "Requirement already satisfied: joblib>=1.2.0 in /Users/olemar/Library/Python/3.9/lib/python/site-packages (from scikit-learn) (1.4.2)\r\n",
      "Requirement already satisfied: threadpoolctl>=3.1.0 in /Users/olemar/Library/Python/3.9/lib/python/site-packages (from scikit-learn) (3.5.0)\r\n",
      "Requirement already satisfied: numba in /Users/olemar/Library/Python/3.9/lib/python/site-packages (from shap) (0.60.0)\r\n",
      "Requirement already satisfied: slicer==0.0.8 in /Users/olemar/Library/Python/3.9/lib/python/site-packages (from shap) (0.0.8)\r\n",
      "Requirement already satisfied: tqdm>=4.27.0 in /Users/olemar/Library/Python/3.9/lib/python/site-packages (from shap) (4.67.0)\r\n",
      "Requirement already satisfied: cloudpickle in /Users/olemar/Library/Python/3.9/lib/python/site-packages (from shap) (3.1.0)\r\n",
      "Requirement already satisfied: cycler>=0.10 in /Users/olemar/Library/Python/3.9/lib/python/site-packages (from matplotlib) (0.12.1)\r\n",
      "Requirement already satisfied: kiwisolver>=1.3.1 in /Users/olemar/Library/Python/3.9/lib/python/site-packages (from matplotlib) (1.4.7)\r\n",
      "Requirement already satisfied: pillow>=8 in /Users/olemar/Library/Python/3.9/lib/python/site-packages (from matplotlib) (11.0.0)\r\n",
      "Requirement already satisfied: importlib-resources>=3.2.0 in /Users/olemar/Library/Python/3.9/lib/python/site-packages (from matplotlib) (6.4.5)\r\n",
      "Requirement already satisfied: fonttools>=4.22.0 in /Users/olemar/Library/Python/3.9/lib/python/site-packages (from matplotlib) (4.55.0)\r\n",
      "Requirement already satisfied: contourpy>=1.0.1 in /Users/olemar/Library/Python/3.9/lib/python/site-packages (from matplotlib) (1.3.0)\r\n",
      "Requirement already satisfied: pyparsing>=2.3.1 in /Users/olemar/Library/Python/3.9/lib/python/site-packages (from matplotlib) (3.2.0)\r\n",
      "Requirement already satisfied: typing-extensions>=4.10.0 in /Library/Python/3.9/site-packages (from altair) (4.12.2)\r\n",
      "Requirement already satisfied: narwhals>=1.14.2 in /Users/olemar/Library/Python/3.9/lib/python/site-packages (from altair) (1.17.0)\r\n",
      "Requirement already satisfied: jsonschema>=3.0 in /Library/Python/3.9/site-packages (from altair) (4.23.0)\r\n",
      "Requirement already satisfied: jinja2 in /Library/Python/3.9/site-packages (from altair) (3.1.4)\r\n",
      "Requirement already satisfied: zipp>=3.1.0 in /Library/Python/3.9/site-packages (from importlib-resources>=3.2.0->matplotlib) (3.21.0)\r\n",
      "Requirement already satisfied: jsonschema-specifications>=2023.03.6 in /Library/Python/3.9/site-packages (from jsonschema>=3.0->altair) (2024.10.1)\r\n",
      "Requirement already satisfied: rpds-py>=0.7.1 in /Library/Python/3.9/site-packages (from jsonschema>=3.0->altair) (0.21.0)\r\n",
      "Requirement already satisfied: referencing>=0.28.4 in /Library/Python/3.9/site-packages (from jsonschema>=3.0->altair) (0.35.1)\r\n",
      "Requirement already satisfied: attrs>=22.2.0 in /Library/Python/3.9/site-packages (from jsonschema>=3.0->altair) (24.2.0)\r\n",
      "Requirement already satisfied: six>=1.5 in /Library/Developer/CommandLineTools/Library/Frameworks/Python3.framework/Versions/3.9/lib/python3.9/site-packages (from python-dateutil>=2.8.2->pandas) (1.15.0)\r\n",
      "Requirement already satisfied: MarkupSafe>=2.0 in /Library/Python/3.9/site-packages (from jinja2->altair) (3.0.2)\r\n",
      "Requirement already satisfied: llvmlite<0.44,>=0.43.0dev0 in /Users/olemar/Library/Python/3.9/lib/python/site-packages (from numba->shap) (0.43.0)\r\n",
      "\u001B[33mWARNING: You are using pip version 21.2.4; however, version 24.3.1 is available.\r\n",
      "You should consider upgrading via the '/Library/Developer/CommandLineTools/usr/bin/python3 -m pip install --upgrade pip' command.\u001B[0m\r\n",
      "Note: you may need to restart the kernel to use updated packages.\n"
     ]
    }
   ],
   "execution_count": 2
  },
  {
   "metadata": {},
   "cell_type": "markdown",
   "source": "## Generate clinical and genetic features to test and save them for the record",
   "id": "1b3561a60dbbad97"
  },
  {
   "cell_type": "code",
   "id": "initial_id",
   "metadata": {
    "collapsed": true,
    "ExecuteTime": {
     "end_time": "2024-12-13T12:54:07.133798Z",
     "start_time": "2024-12-13T12:54:07.092905Z"
    }
   },
   "source": [
    "#%pip install pandas \n",
    "import pandas as pd\n",
    "import numpy as np\n",
    "\n",
    "# Define gene list and feature types\n",
    "genes = [\n",
    "    \"APC\", \"ATM\", \"AXIN2\", \"BAP1\", \"BARD1\", \"BMPR1A\", \"BRCA1\", \"BRCA2\", \"BRIP1\",\n",
    "    \"CDH1\", \"CDK4\", \"CDKN2A\", \"CDKN2B\", \"CDKN1B\", \"CHECK2\", \"CTNNA1\", \"DICER1\",\n",
    "    \"EPCAN\", \"FH\", \"FLCN\", \"GREM1\", \"HOXB13\", \"KIT\", \"MAX\", \"MEN1\", \"MET\", \"MITF\",\n",
    "    \"MLH\", \"MSH2\", \"MSH3\", \"MSH6\", \"MUTYH\", \"NF1\", \"NTHL1\", \"PALB2\", \"PDGFRQ\",\n",
    "    \"PMS2\", \"POLD1\", \"POLE\", \"PTEN\", \"PTCH1\", \"RAD51C\", \"RAD51D\", \"RED\", \"SDHA\",\n",
    "    \"SDHAF2\", \"SDHB\", \"SDHC\", \"SDHD\", \"SMAD4\", \"STK11\", \"TMEM127\", \"TP53\", \"TSC2\", \"VHL\"\n",
    "]\n",
    "\n",
    "# Create random test data for genomic features\n",
    "num_samples = 100\n",
    "genomic_data = {\n",
    "    f\"{gene}_exp\": np.random.randint(0, 2, num_samples) for gene in genes\n",
    "}\n",
    "genomic_data.update({\n",
    "    f\"{gene}_cn\": np.random.randint(0, 2, num_samples) for gene in genes\n",
    "})\n",
    "genomic_data.update({\n",
    "    f\"{gene}\": np.random.randint(0, 2, num_samples) for gene in genes\n",
    "})\n",
    "genomic_features = pd.DataFrame(genomic_data)\n",
    "\n",
    "# Create random test data for clinical features\n",
    "clinical_features = pd.DataFrame({\n",
    "    f\"lab_test_{i}\": np.random.randint(0, 2, num_samples) for i in range(1, 21)\n",
    "})\n",
    "\n",
    "# Add a random binary target for testing\n",
    "genomic_features['target_column'] = np.random.randint(0, 2, num_samples)\n",
    "\n",
    "#save the generated features\n",
    "genomic_features.to_csv('./data/genomic_features.csv')\n",
    "clinical_features.to_csv('./data/clinical_features.csv')\n"
   ],
   "outputs": [],
   "execution_count": 24
  },
  {
   "metadata": {},
   "cell_type": "markdown",
   "source": "## Load data and prepare the feature matrix. It is a good idea to QC your features before using them as input, check key distributions, test for bias and data drift",
   "id": "32891ae36796fd41"
  },
  {
   "metadata": {
    "ExecuteTime": {
     "end_time": "2024-12-13T12:54:09.285163Z",
     "start_time": "2024-12-13T12:54:09.271078Z"
    }
   },
   "cell_type": "code",
   "source": [
    "import shap\n",
    "import pandas as pd\n",
    "from sklearn.model_selection import train_test_split\n",
    "from sklearn.ensemble import RandomForestClassifier\n",
    "import matplotlib.pyplot as plt\n",
    "\n",
    "# Load your data\n",
    "genomic_features = pd.read_csv('./data/genomic_features.csv')\n",
    "clinical_features = pd.read_csv('./data/clinical_features.csv')\n",
    "# Combine the datasets\n",
    "data = pd.concat([genomic_features, clinical_features], axis=1)\n",
    "\n",
    "# Define target variable and features\n",
    "# Replace 'target_feature' with the name of the target column\n",
    "target_feature = 'target_column'  # Change this\n",
    "X = data.drop(columns=[target_feature])\n",
    "y = data[target_feature]\n",
    "\n",
    "# Train-Test Split\n",
    "X_train, X_test, y_train, y_test = train_test_split(X, y, test_size=0.3, random_state=42)\n",
    "\n"
   ],
   "id": "9f110617427855be",
   "outputs": [],
   "execution_count": 25
  },
  {
   "metadata": {
    "ExecuteTime": {
     "end_time": "2024-12-13T12:54:11.343695Z",
     "start_time": "2024-12-13T12:54:11.261284Z"
    }
   },
   "cell_type": "code",
   "source": [
    "# Train a model (Random Forest)\n",
    "random_forest = RandomForestClassifier(random_state=42)\n",
    "random_forest.fit(X_train, y_train)\n",
    "\n",
    "# Explain the model's predictions using SHAP\n",
    "explainer = shap.TreeExplainer(random_forest)\n",
    "shap_values = explainer.shap_values(X_test)"
   ],
   "id": "b12ad6a274822f35",
   "outputs": [],
   "execution_count": 26
  },
  {
   "metadata": {},
   "cell_type": "markdown",
   "source": [
    "## Plot SHAP plot. \n",
    "### Since a random forest is essentially an ensemble of decision trees, SHAP’s TreeExplainer can leverage the tree structure to calculate Shapley values more quickly and accurately than generic approaches (like the KernelExplainer)"
   ],
   "id": "41a339fc9d89be74"
  },
  {
   "metadata": {
    "ExecuteTime": {
     "end_time": "2024-12-13T12:54:15.490304Z",
     "start_time": "2024-12-13T12:54:15.221423Z"
    }
   },
   "cell_type": "code",
   "source": [
    "# Extract SHAP values for class 1 directly\n",
    "shap_values_class_1 = shap_values[:, :, 1]  # Extract class 1 values\n",
    "\n",
    "# Check the shapes\n",
    "print(\"SHAP values for class 1 shape:\", shap_values_class_1.shape)\n",
    "print(\"X_test shape:\", X_test.shape)\n",
    "\n",
    "# Ensure shapes match\n",
    "assert shap_values_class_1.shape == X_test.shape, \"SHAP values shape does not match X_test shape\"\n",
    "\n",
    "# Plot SHAP summary for class 1\n",
    "shap.summary_plot(shap_values_class_1, X_test)\n"
   ],
   "id": "b2b632131ef768f1",
   "outputs": [
    {
     "name": "stdout",
     "output_type": "stream",
     "text": [
      "SHAP values for class 1 shape: (30, 187)\n",
      "X_test shape: (30, 187)\n"
     ]
    },
    {
     "data": {
      "text/plain": [
       "<Figure size 800x950 with 2 Axes>"
      ],
      "image/png": "[encoded data removed]"
     },
     "metadata": {},
     "output_type": "display_data"
    }
   ],
   "execution_count": 27
  },
  {
   "metadata": {},
   "cell_type": "markdown",
   "source": "## Calculate VIF (for logistic regression)",
   "id": "4fe05d590daadfee"
  },
  {
   "metadata": {
    "ExecuteTime": {
     "end_time": "2024-12-13T12:54:19.511430Z",
     "start_time": "2024-12-13T12:54:18.898718Z"
    }
   },
   "cell_type": "code",
   "source": [
    "import pandas as pd\n",
    "import numpy as np\n",
    "from statsmodels.stats.outliers_influence import variance_inflation_factor\n",
    "\n",
    "def compute_vif(X):\n",
    "    \"\"\"Calculate VIF for each feature in the dataset.\"\"\"\n",
    "    vif_data = pd.DataFrame()\n",
    "    vif_data[\"Feature\"] = X.columns\n",
    "    vif_data[\"VIF\"] = [variance_inflation_factor(X.values, i) for i in range(X.shape[1])]\n",
    "    return vif_data\n",
    "\n",
    "vif_results = compute_vif(X)\n",
    "\n",
    "# Display features with VIF < 10\n",
    "vif_results_below_10 = vif_results[vif_results['VIF'] < 10]\n",
    "print(vif_results_below_10)"
   ],
   "id": "7b848be37e7bafab",
   "outputs": [
    {
     "name": "stderr",
     "output_type": "stream",
     "text": [
      "/Users/olemar/Library/Python/3.9/lib/python/site-packages/statsmodels/stats/outliers_influence.py:197: RuntimeWarning: divide by zero encountered in scalar divide\n",
      "  vif = 1. / (1. - r_squared_i)\n"
     ]
    },
    {
     "name": "stdout",
     "output_type": "stream",
     "text": [
      "Empty DataFrame\n",
      "Columns: [Feature, VIF]\n",
      "Index: []\n"
     ]
    }
   ],
   "execution_count": 28
  },
  {
   "metadata": {},
   "cell_type": "markdown",
   "source": "## Calculate correlation matrix, drop highly correlated features",
   "id": "4cd618cb68c9f329"
  },
  {
   "metadata": {
    "ExecuteTime": {
     "end_time": "2024-12-13T12:54:36.696483Z",
     "start_time": "2024-12-13T12:54:36.667927Z"
    }
   },
   "cell_type": "code",
   "source": [
    "# Calculate the correlation matrix\n",
    "corr_matrix = X.corr().abs()\n",
    "\n",
    "# Select upper triangle of correlation matrix\n",
    "upper = corr_matrix.where(np.triu(np.ones(corr_matrix.shape), k=1).astype(bool))\n",
    "\n",
    "# Find features with correlation greater than 0.9\n",
    "to_drop = [column for column in upper.columns if any(upper[column] > 0.9)]\n",
    "\n",
    "# Drop highly correlated features\n",
    "X = X.drop(columns=to_drop)\n",
    "\n",
    "print(f\"Removed features due to high correlation: {to_drop}\")\n"
   ],
   "id": "63bb25e3c27aefed",
   "outputs": [
    {
     "name": "stdout",
     "output_type": "stream",
     "text": [
      "Removed features due to high correlation: []\n"
     ]
    }
   ],
   "execution_count": 30
  },
  {
   "metadata": {},
   "cell_type": "markdown",
   "source": "## Check that the target column is binary and recalculate VIF",
   "id": "5781871869c0beb4"
  },
  {
   "metadata": {
    "ExecuteTime": {
     "end_time": "2024-12-13T12:54:39.988130Z",
     "start_time": "2024-12-13T12:54:39.979968Z"
    }
   },
   "cell_type": "code",
   "source": [
    "# Ensure target column is binary (e.g., values 0 and 1)\n",
    "print(f\"Unique values in the target column: {y.unique()}\")\n"
   ],
   "id": "d0df83496e72708e",
   "outputs": [
    {
     "name": "stdout",
     "output_type": "stream",
     "text": [
      "Unique values in the target column: [0 1]\n"
     ]
    }
   ],
   "execution_count": 31
  },
  {
   "metadata": {},
   "cell_type": "markdown",
   "source": "#Perform WALD test",
   "id": "4cc567d82c55fb73"
  },
  {
   "metadata": {
    "ExecuteTime": {
     "end_time": "2024-12-13T12:54:44.674520Z",
     "start_time": "2024-12-13T12:54:43.922768Z"
    }
   },
   "cell_type": "code",
   "source": [
    "# Recalculate VIF\n",
    "vif_results = compute_vif(X)\n",
    "print(vif_results)\n",
    "\n",
    "# Refit the logistic regression model\n",
    "X = sm.add_constant(X)  # Add intercept\n",
    "logit_model = sm.Logit(y, X)\n",
    "result = logit_model.fit()\n",
    "\n",
    "# Perform Wald's test\n",
    "wald_results = pd.DataFrame({\n",
    "    \"Feature\": X.columns,\n",
    "    \"Coefficient\": result.params,\n",
    "    \"Std Err\": result.bse,\n",
    "    \"z-Score\": result.tvalues,\n",
    "    \"p-Value\": result.pvalues\n",
    "})\n",
    "\n",
    "print(wald_results)\n"
   ],
   "id": "409c81ebabff8eae",
   "outputs": [
    {
     "name": "stderr",
     "output_type": "stream",
     "text": [
      "/Users/olemar/Library/Python/3.9/lib/python/site-packages/statsmodels/stats/outliers_influence.py:197: RuntimeWarning: divide by zero encountered in scalar divide\n",
      "  vif = 1. / (1. - r_squared_i)\n"
     ]
    },
    {
     "name": "stdout",
     "output_type": "stream",
     "text": [
      "         Feature  VIF\n",
      "0        APC_exp  inf\n",
      "1        ATM_exp  inf\n",
      "2      AXIN2_exp  inf\n",
      "3       BAP1_exp  inf\n",
      "4      BARD1_exp  inf\n",
      "..           ...  ...\n",
      "180  lab_test_16  inf\n",
      "181  lab_test_17  inf\n",
      "182  lab_test_18  inf\n",
      "183  lab_test_19  inf\n",
      "184  lab_test_20  inf\n",
      "\n",
      "[185 rows x 2 columns]\n",
      "Warning: Maximum number of iterations has been exceeded.\n",
      "         Current function value: inf\n",
      "         Iterations: 35\n"
     ]
    },
    {
     "name": "stderr",
     "output_type": "stream",
     "text": [
      "/Users/olemar/Library/Python/3.9/lib/python/site-packages/statsmodels/discrete/discrete_model.py:227: PerfectSeparationWarning: Perfect separation or prediction detected, parameter may not be identified\n",
      "  warnings.warn(msg, category=PerfectSeparationWarning)\n",
      "/Users/olemar/Library/Python/3.9/lib/python/site-packages/statsmodels/discrete/discrete_model.py:227: PerfectSeparationWarning: Perfect separation or prediction detected, parameter may not be identified\n",
      "  warnings.warn(msg, category=PerfectSeparationWarning)\n",
      "/Users/olemar/Library/Python/3.9/lib/python/site-packages/statsmodels/discrete/discrete_model.py:2385: RuntimeWarning: overflow encountered in exp\n",
      "  return 1/(1+np.exp(-X))\n",
      "/Users/olemar/Library/Python/3.9/lib/python/site-packages/statsmodels/discrete/discrete_model.py:2443: RuntimeWarning: divide by zero encountered in log\n",
      "  return np.sum(np.log(self.cdf(q * linpred)))\n"
     ]
    },
    {
     "ename": "LinAlgError",
     "evalue": "Singular matrix",
     "output_type": "error",
     "traceback": [
      "\u001B[0;31m---------------------------------------------------------------------------\u001B[0m",
      "\u001B[0;31mLinAlgError\u001B[0m                               Traceback (most recent call last)",
      "Cell \u001B[0;32mIn[32], line 8\u001B[0m\n\u001B[1;32m      6\u001B[0m X \u001B[38;5;241m=\u001B[39m sm\u001B[38;5;241m.\u001B[39madd_constant(X)  \u001B[38;5;66;03m# Add intercept\u001B[39;00m\n\u001B[1;32m      7\u001B[0m logit_model \u001B[38;5;241m=\u001B[39m sm\u001B[38;5;241m.\u001B[39mLogit(y, X)\n\u001B[0;32m----> 8\u001B[0m result \u001B[38;5;241m=\u001B[39m \u001B[43mlogit_model\u001B[49m\u001B[38;5;241;43m.\u001B[39;49m\u001B[43mfit\u001B[49m\u001B[43m(\u001B[49m\u001B[43m)\u001B[49m\n\u001B[1;32m     10\u001B[0m \u001B[38;5;66;03m# Perform Wald's test\u001B[39;00m\n\u001B[1;32m     11\u001B[0m wald_results \u001B[38;5;241m=\u001B[39m pd\u001B[38;5;241m.\u001B[39mDataFrame({\n\u001B[1;32m     12\u001B[0m     \u001B[38;5;124m\"\u001B[39m\u001B[38;5;124mFeature\u001B[39m\u001B[38;5;124m\"\u001B[39m: X\u001B[38;5;241m.\u001B[39mcolumns,\n\u001B[1;32m     13\u001B[0m     \u001B[38;5;124m\"\u001B[39m\u001B[38;5;124mCoefficient\u001B[39m\u001B[38;5;124m\"\u001B[39m: result\u001B[38;5;241m.\u001B[39mparams,\n\u001B[0;32m   (...)\u001B[0m\n\u001B[1;32m     16\u001B[0m     \u001B[38;5;124m\"\u001B[39m\u001B[38;5;124mp-Value\u001B[39m\u001B[38;5;124m\"\u001B[39m: result\u001B[38;5;241m.\u001B[39mpvalues\n\u001B[1;32m     17\u001B[0m })\n",
      "File \u001B[0;32m~/Library/Python/3.9/lib/python/site-packages/statsmodels/discrete/discrete_model.py:2601\u001B[0m, in \u001B[0;36mLogit.fit\u001B[0;34m(self, start_params, method, maxiter, full_output, disp, callback, **kwargs)\u001B[0m\n\u001B[1;32m   2598\u001B[0m \u001B[38;5;129m@Appender\u001B[39m(DiscreteModel\u001B[38;5;241m.\u001B[39mfit\u001B[38;5;241m.\u001B[39m\u001B[38;5;18m__doc__\u001B[39m)\n\u001B[1;32m   2599\u001B[0m \u001B[38;5;28;01mdef\u001B[39;00m \u001B[38;5;21mfit\u001B[39m(\u001B[38;5;28mself\u001B[39m, start_params\u001B[38;5;241m=\u001B[39m\u001B[38;5;28;01mNone\u001B[39;00m, method\u001B[38;5;241m=\u001B[39m\u001B[38;5;124m'\u001B[39m\u001B[38;5;124mnewton\u001B[39m\u001B[38;5;124m'\u001B[39m, maxiter\u001B[38;5;241m=\u001B[39m\u001B[38;5;241m35\u001B[39m,\n\u001B[1;32m   2600\u001B[0m         full_output\u001B[38;5;241m=\u001B[39m\u001B[38;5;241m1\u001B[39m, disp\u001B[38;5;241m=\u001B[39m\u001B[38;5;241m1\u001B[39m, callback\u001B[38;5;241m=\u001B[39m\u001B[38;5;28;01mNone\u001B[39;00m, \u001B[38;5;241m*\u001B[39m\u001B[38;5;241m*\u001B[39mkwargs):\n\u001B[0;32m-> 2601\u001B[0m     bnryfit \u001B[38;5;241m=\u001B[39m \u001B[38;5;28;43msuper\u001B[39;49m\u001B[43m(\u001B[49m\u001B[43m)\u001B[49m\u001B[38;5;241;43m.\u001B[39;49m\u001B[43mfit\u001B[49m\u001B[43m(\u001B[49m\u001B[43mstart_params\u001B[49m\u001B[38;5;241;43m=\u001B[39;49m\u001B[43mstart_params\u001B[49m\u001B[43m,\u001B[49m\n\u001B[1;32m   2602\u001B[0m \u001B[43m                          \u001B[49m\u001B[43mmethod\u001B[49m\u001B[38;5;241;43m=\u001B[39;49m\u001B[43mmethod\u001B[49m\u001B[43m,\u001B[49m\n\u001B[1;32m   2603\u001B[0m \u001B[43m                          \u001B[49m\u001B[43mmaxiter\u001B[49m\u001B[38;5;241;43m=\u001B[39;49m\u001B[43mmaxiter\u001B[49m\u001B[43m,\u001B[49m\n\u001B[1;32m   2604\u001B[0m \u001B[43m                          \u001B[49m\u001B[43mfull_output\u001B[49m\u001B[38;5;241;43m=\u001B[39;49m\u001B[43mfull_output\u001B[49m\u001B[43m,\u001B[49m\n\u001B[1;32m   2605\u001B[0m \u001B[43m                          \u001B[49m\u001B[43mdisp\u001B[49m\u001B[38;5;241;43m=\u001B[39;49m\u001B[43mdisp\u001B[49m\u001B[43m,\u001B[49m\n\u001B[1;32m   2606\u001B[0m \u001B[43m                          \u001B[49m\u001B[43mcallback\u001B[49m\u001B[38;5;241;43m=\u001B[39;49m\u001B[43mcallback\u001B[49m\u001B[43m,\u001B[49m\n\u001B[1;32m   2607\u001B[0m \u001B[43m                          \u001B[49m\u001B[38;5;241;43m*\u001B[39;49m\u001B[38;5;241;43m*\u001B[39;49m\u001B[43mkwargs\u001B[49m\u001B[43m)\u001B[49m\n\u001B[1;32m   2609\u001B[0m     discretefit \u001B[38;5;241m=\u001B[39m LogitResults(\u001B[38;5;28mself\u001B[39m, bnryfit)\n\u001B[1;32m   2610\u001B[0m     \u001B[38;5;28;01mreturn\u001B[39;00m BinaryResultsWrapper(discretefit)\n",
      "File \u001B[0;32m~/Library/Python/3.9/lib/python/site-packages/statsmodels/discrete/discrete_model.py:243\u001B[0m, in \u001B[0;36mDiscreteModel.fit\u001B[0;34m(self, start_params, method, maxiter, full_output, disp, callback, **kwargs)\u001B[0m\n\u001B[1;32m    240\u001B[0m \u001B[38;5;28;01melse\u001B[39;00m:\n\u001B[1;32m    241\u001B[0m     \u001B[38;5;28;01mpass\u001B[39;00m  \u001B[38;5;66;03m# TODO: make a function factory to have multiple call-backs\u001B[39;00m\n\u001B[0;32m--> 243\u001B[0m mlefit \u001B[38;5;241m=\u001B[39m \u001B[38;5;28;43msuper\u001B[39;49m\u001B[43m(\u001B[49m\u001B[43m)\u001B[49m\u001B[38;5;241;43m.\u001B[39;49m\u001B[43mfit\u001B[49m\u001B[43m(\u001B[49m\u001B[43mstart_params\u001B[49m\u001B[38;5;241;43m=\u001B[39;49m\u001B[43mstart_params\u001B[49m\u001B[43m,\u001B[49m\n\u001B[1;32m    244\u001B[0m \u001B[43m                     \u001B[49m\u001B[43mmethod\u001B[49m\u001B[38;5;241;43m=\u001B[39;49m\u001B[43mmethod\u001B[49m\u001B[43m,\u001B[49m\n\u001B[1;32m    245\u001B[0m \u001B[43m                     \u001B[49m\u001B[43mmaxiter\u001B[49m\u001B[38;5;241;43m=\u001B[39;49m\u001B[43mmaxiter\u001B[49m\u001B[43m,\u001B[49m\n\u001B[1;32m    246\u001B[0m \u001B[43m                     \u001B[49m\u001B[43mfull_output\u001B[49m\u001B[38;5;241;43m=\u001B[39;49m\u001B[43mfull_output\u001B[49m\u001B[43m,\u001B[49m\n\u001B[1;32m    247\u001B[0m \u001B[43m                     \u001B[49m\u001B[43mdisp\u001B[49m\u001B[38;5;241;43m=\u001B[39;49m\u001B[43mdisp\u001B[49m\u001B[43m,\u001B[49m\n\u001B[1;32m    248\u001B[0m \u001B[43m                     \u001B[49m\u001B[43mcallback\u001B[49m\u001B[38;5;241;43m=\u001B[39;49m\u001B[43mcallback\u001B[49m\u001B[43m,\u001B[49m\n\u001B[1;32m    249\u001B[0m \u001B[43m                     \u001B[49m\u001B[38;5;241;43m*\u001B[39;49m\u001B[38;5;241;43m*\u001B[39;49m\u001B[43mkwargs\u001B[49m\u001B[43m)\u001B[49m\n\u001B[1;32m    251\u001B[0m \u001B[38;5;28;01mreturn\u001B[39;00m mlefit\n",
      "File \u001B[0;32m~/Library/Python/3.9/lib/python/site-packages/statsmodels/base/model.py:582\u001B[0m, in \u001B[0;36mLikelihoodModel.fit\u001B[0;34m(self, start_params, method, maxiter, full_output, disp, fargs, callback, retall, skip_hessian, **kwargs)\u001B[0m\n\u001B[1;32m    580\u001B[0m     Hinv \u001B[38;5;241m=\u001B[39m cov_params_func(\u001B[38;5;28mself\u001B[39m, xopt, retvals)\n\u001B[1;32m    581\u001B[0m \u001B[38;5;28;01melif\u001B[39;00m method \u001B[38;5;241m==\u001B[39m \u001B[38;5;124m'\u001B[39m\u001B[38;5;124mnewton\u001B[39m\u001B[38;5;124m'\u001B[39m \u001B[38;5;129;01mand\u001B[39;00m full_output:\n\u001B[0;32m--> 582\u001B[0m     Hinv \u001B[38;5;241m=\u001B[39m \u001B[43mnp\u001B[49m\u001B[38;5;241;43m.\u001B[39;49m\u001B[43mlinalg\u001B[49m\u001B[38;5;241;43m.\u001B[39;49m\u001B[43minv\u001B[49m\u001B[43m(\u001B[49m\u001B[38;5;241;43m-\u001B[39;49m\u001B[43mretvals\u001B[49m\u001B[43m[\u001B[49m\u001B[38;5;124;43m'\u001B[39;49m\u001B[38;5;124;43mHessian\u001B[39;49m\u001B[38;5;124;43m'\u001B[39;49m\u001B[43m]\u001B[49m\u001B[43m)\u001B[49m \u001B[38;5;241m/\u001B[39m nobs\n\u001B[1;32m    583\u001B[0m \u001B[38;5;28;01melif\u001B[39;00m \u001B[38;5;129;01mnot\u001B[39;00m skip_hessian:\n\u001B[1;32m    584\u001B[0m     H \u001B[38;5;241m=\u001B[39m \u001B[38;5;241m-\u001B[39m\u001B[38;5;241m1\u001B[39m \u001B[38;5;241m*\u001B[39m \u001B[38;5;28mself\u001B[39m\u001B[38;5;241m.\u001B[39mhessian(xopt)\n",
      "File \u001B[0;32m~/Library/Python/3.9/lib/python/site-packages/numpy/linalg/_linalg.py:608\u001B[0m, in \u001B[0;36minv\u001B[0;34m(a)\u001B[0m\n\u001B[1;32m    605\u001B[0m signature \u001B[38;5;241m=\u001B[39m \u001B[38;5;124m'\u001B[39m\u001B[38;5;124mD->D\u001B[39m\u001B[38;5;124m'\u001B[39m \u001B[38;5;28;01mif\u001B[39;00m isComplexType(t) \u001B[38;5;28;01melse\u001B[39;00m \u001B[38;5;124m'\u001B[39m\u001B[38;5;124md->d\u001B[39m\u001B[38;5;124m'\u001B[39m\n\u001B[1;32m    606\u001B[0m \u001B[38;5;28;01mwith\u001B[39;00m errstate(call\u001B[38;5;241m=\u001B[39m_raise_linalgerror_singular, invalid\u001B[38;5;241m=\u001B[39m\u001B[38;5;124m'\u001B[39m\u001B[38;5;124mcall\u001B[39m\u001B[38;5;124m'\u001B[39m,\n\u001B[1;32m    607\u001B[0m               over\u001B[38;5;241m=\u001B[39m\u001B[38;5;124m'\u001B[39m\u001B[38;5;124mignore\u001B[39m\u001B[38;5;124m'\u001B[39m, divide\u001B[38;5;241m=\u001B[39m\u001B[38;5;124m'\u001B[39m\u001B[38;5;124mignore\u001B[39m\u001B[38;5;124m'\u001B[39m, under\u001B[38;5;241m=\u001B[39m\u001B[38;5;124m'\u001B[39m\u001B[38;5;124mignore\u001B[39m\u001B[38;5;124m'\u001B[39m):\n\u001B[0;32m--> 608\u001B[0m     ainv \u001B[38;5;241m=\u001B[39m \u001B[43m_umath_linalg\u001B[49m\u001B[38;5;241;43m.\u001B[39;49m\u001B[43minv\u001B[49m\u001B[43m(\u001B[49m\u001B[43ma\u001B[49m\u001B[43m,\u001B[49m\u001B[43m \u001B[49m\u001B[43msignature\u001B[49m\u001B[38;5;241;43m=\u001B[39;49m\u001B[43msignature\u001B[49m\u001B[43m)\u001B[49m\n\u001B[1;32m    609\u001B[0m \u001B[38;5;28;01mreturn\u001B[39;00m wrap(ainv\u001B[38;5;241m.\u001B[39mastype(result_t, copy\u001B[38;5;241m=\u001B[39m\u001B[38;5;28;01mFalse\u001B[39;00m))\n",
      "File \u001B[0;32m~/Library/Python/3.9/lib/python/site-packages/numpy/linalg/_linalg.py:104\u001B[0m, in \u001B[0;36m_raise_linalgerror_singular\u001B[0;34m(err, flag)\u001B[0m\n\u001B[1;32m    103\u001B[0m \u001B[38;5;28;01mdef\u001B[39;00m \u001B[38;5;21m_raise_linalgerror_singular\u001B[39m(err, flag):\n\u001B[0;32m--> 104\u001B[0m     \u001B[38;5;28;01mraise\u001B[39;00m LinAlgError(\u001B[38;5;124m\"\u001B[39m\u001B[38;5;124mSingular matrix\u001B[39m\u001B[38;5;124m\"\u001B[39m)\n",
      "\u001B[0;31mLinAlgError\u001B[0m: Singular matrix"
     ]
    }
   ],
   "execution_count": 32
  },
  {
   "metadata": {},
   "cell_type": "markdown",
   "source": "## Apply L2 regularization",
   "id": "132ff90232229d9a"
  },
  {
   "metadata": {
    "ExecuteTime": {
     "end_time": "2024-12-13T12:54:48.347574Z",
     "start_time": "2024-12-13T12:54:48.318249Z"
    }
   },
   "cell_type": "code",
   "source": [
    "from sklearn.linear_model import LogisticRegression\n",
    "from sklearn.model_selection import train_test_split\n",
    "\n",
    "# Apply L2 regularization\n",
    "linear_reg = LogisticRegression(penalty='l2', solver='liblinear')\n",
    "linear_reg.fit(X_train, y_train)\n",
    "\n",
    "# Check coefficients and perform significance testing\n",
    "print(f\"Coefficients: {linear_reg.coef_}\")\n"
   ],
   "id": "28a27f803d3c8561",
   "outputs": [
    {
     "name": "stdout",
     "output_type": "stream",
     "text": [
      "Coefficients: [[ 0.00961356 -0.39929412 -0.23337981  0.06606189  0.53438205  0.00975028\n",
      "  -0.12271784  0.11669386  0.37257436  0.14395528 -0.20375179  0.29118676\n",
      "   0.13232236 -0.24125671 -0.11377614  0.20659851 -0.21044055 -0.04330794\n",
      "  -0.15210654 -0.0807435  -0.17991538 -0.07981568 -0.09916297  0.24215135\n",
      "  -0.34915365 -0.17972401 -0.12773935  0.28885088  0.12900034 -0.30368036\n",
      "   0.23252027  0.01016824  0.45221015 -0.13110834  0.02459715 -0.12047775\n",
      "  -0.22363898 -0.03958238  0.14254843 -0.34436996 -0.22949076 -0.29566985\n",
      "   0.18888611  0.46904302  0.18089215 -0.27428196  0.28630189  0.30653103\n",
      "   0.0136471   0.30985655 -0.01785105 -0.10555342 -0.21762438 -0.07612947\n",
      "  -0.30485067 -0.18900352  0.33979156  0.43419713  0.16764738  0.27909556\n",
      "  -0.09145518 -0.18490528 -0.12308855 -0.26141245  0.08123309  0.18850563\n",
      "   0.05736973  0.27439656 -0.04427898  0.00117448  0.22300676  0.02593037\n",
      "  -0.01550889 -0.37226682  0.07932936 -0.16428008 -0.02830962 -0.03734089\n",
      "   0.76641932  0.14212271  0.17437533 -0.21094071  0.20394187 -0.03833982\n",
      "   0.18582706  0.24433942 -0.61224227  0.1655829   0.25774772 -0.3786156\n",
      "   0.29349807 -0.24634954  0.37459497 -0.268291   -0.14348717 -0.27169007\n",
      "   0.22527488 -0.28056585 -0.29422895  0.08647322  0.29018228 -0.41333694\n",
      "   0.08186012  0.45132019 -0.01201653  0.34100594 -0.39629313  0.00969935\n",
      "  -0.10747377  0.54077759  0.24756051  0.18270909 -0.23319213 -0.55895211\n",
      "   0.43080737  0.42164061  0.10095288 -0.45739507 -0.21157876  0.3372266\n",
      "  -0.53648635  0.14588648 -0.22673702 -0.25631876 -0.51497506 -0.46737001\n",
      "   0.45181291  0.17917036  0.44772066  0.00879209 -0.12582777  0.18772747\n",
      "  -0.10126029 -0.03031884 -0.31824534  0.01413364 -0.29799774 -0.09244556\n",
      "  -0.2269702  -0.20676176 -0.06711538 -0.02785774 -0.58159088  0.62633671\n",
      "  -0.42666456  0.22228567 -0.14124971  0.0231878  -0.01567046 -0.72645167\n",
      "  -0.33038015  0.00825026  0.07699513  0.32176012  0.04537773  0.10097102\n",
      "  -0.14554964  0.08498198  0.4221079  -0.24285377 -0.03498745  0.24412314\n",
      "  -0.33265876 -0.03820016  0.11457022  0.27624146  0.00961356 -0.39337468\n",
      "  -0.03244435 -0.34351011 -0.10897022  0.0528887  -0.00632067 -0.01484091\n",
      "  -0.12796267 -0.24060905  0.42819595 -0.16841997  0.08949653  0.22681556\n",
      "  -0.17037063  0.07815546  0.28174484 -0.65993374 -0.00202868 -0.09607349\n",
      "   0.3426142 ]]\n"
     ]
    }
   ],
   "execution_count": 33
  },
  {
   "metadata": {},
   "cell_type": "markdown",
   "source": "## Train ElasticNet model (Lasso and Ridge Regression)",
   "id": "c8ee7979233f0524"
  },
  {
   "metadata": {
    "ExecuteTime": {
     "end_time": "2024-12-13T12:54:52.277006Z",
     "start_time": "2024-12-13T12:54:52.132841Z"
    }
   },
   "cell_type": "code",
   "source": [
    "from sklearn.linear_model import ElasticNetCV\n",
    "from sklearn.model_selection import train_test_split\n",
    "import pandas as pd\n",
    "\n",
    "# Split data into train and test sets\n",
    "\n",
    "# Apply Elastic Net with Cross-Validation to find the best alpha and L1 ratio\n",
    "elastic_net = ElasticNetCV(l1_ratio=[0.1, 0.5, 0.9],  # Mix of L1 (LASSO) and L2 (ridge)\n",
    "                           alphas=[0.1, 0.01, 0.001],  # Regularization strengths\n",
    "                           cv=6,                       # 5-fold cross-validation\n",
    "                           random_state=1248)\n",
    "\n",
    "# Fit the model\n",
    "elastic_net.fit(X_train, y_train)\n",
    "\n",
    "# Display the best alpha and l1_ratio\n",
    "print(\"Optimal alpha:\", elastic_net.alpha_)\n",
    "print(\"Optimal L1 ratio:\", elastic_net.l1_ratio_)\n",
    "\n",
    "# Coefficients from the model\n",
    "coefficients = pd.DataFrame({\n",
    "    \"Feature\": X_train.columns,\n",
    "    \"Coefficient\": elastic_net.coef_\n",
    "})\n",
    "\n",
    "# Display coefficients\n",
    "print(coefficients)\n"
   ],
   "id": "da6ee2caa42360b1",
   "outputs": [
    {
     "name": "stdout",
     "output_type": "stream",
     "text": [
      "Optimal alpha: 0.1\n",
      "Optimal L1 ratio: 0.9\n",
      "         Feature  Coefficient\n",
      "0     Unnamed: 0     0.002992\n",
      "1        APC_exp     0.000000\n",
      "2        ATM_exp    -0.000000\n",
      "3      AXIN2_exp     0.000000\n",
      "4       BAP1_exp     0.000000\n",
      "..           ...          ...\n",
      "182  lab_test_16     0.000000\n",
      "183  lab_test_17    -0.000000\n",
      "184  lab_test_18     0.000000\n",
      "185  lab_test_19     0.000000\n",
      "186  lab_test_20     0.000000\n",
      "\n",
      "[187 rows x 2 columns]\n"
     ]
    },
    {
     "name": "stderr",
     "output_type": "stream",
     "text": [
      "/Users/olemar/Library/Python/3.9/lib/python/site-packages/sklearn/linear_model/_coordinate_descent.py:697: ConvergenceWarning: Objective did not converge. You might want to increase the number of iterations, check the scale of the features or consider increasing regularisation. Duality gap: 3.244e-03, tolerance: 1.443e-03\n",
      "  model = cd_fast.enet_coordinate_descent(\n",
      "/Users/olemar/Library/Python/3.9/lib/python/site-packages/sklearn/linear_model/_coordinate_descent.py:697: ConvergenceWarning: Objective did not converge. You might want to increase the number of iterations, check the scale of the features or consider increasing regularisation. Duality gap: 3.935e-03, tolerance: 1.448e-03\n",
      "  model = cd_fast.enet_coordinate_descent(\n",
      "/Users/olemar/Library/Python/3.9/lib/python/site-packages/sklearn/linear_model/_coordinate_descent.py:697: ConvergenceWarning: Objective did not converge. You might want to increase the number of iterations, check the scale of the features or consider increasing regularisation. Duality gap: 2.246e-03, tolerance: 1.443e-03\n",
      "  model = cd_fast.enet_coordinate_descent(\n",
      "/Users/olemar/Library/Python/3.9/lib/python/site-packages/sklearn/linear_model/_coordinate_descent.py:697: ConvergenceWarning: Objective did not converge. You might want to increase the number of iterations, check the scale of the features or consider increasing regularisation. Duality gap: 5.237e-03, tolerance: 1.471e-03\n",
      "  model = cd_fast.enet_coordinate_descent(\n"
     ]
    }
   ],
   "execution_count": 34
  },
  {
   "metadata": {},
   "cell_type": "markdown",
   "source": "## Predict on the models constructed and calculate performance metrics: MSE, R2, AUC, ROC_Curves, RMSE, MAE",
   "id": "bd962495ca109db4"
  },
  {
   "metadata": {
    "ExecuteTime": {
     "end_time": "2024-12-13T12:55:01.286689Z",
     "start_time": "2024-12-13T12:55:01.248992Z"
    }
   },
   "cell_type": "code",
   "source": [
    "import numpy as np\n",
    "import pandas as pd\n",
    "import altair as alt\n",
    "from sklearn.metrics import mean_squared_error, r2_score, mean_absolute_error, roc_curve, auc\n",
    "\n",
    "y_pred_en = elastic_net.predict(X_test)\n",
    "y_pred_rf = random_forest.predict(X_test)\n",
    "y_pred_lr = linear_reg.predict(X_test)\n",
    "\n",
    "# If using ROC/AUC, ensure predictions are probabilities or at least [0,1].\n",
    "# This is a simplification; for real classification tasks, use classifiers and predict_proba.\n",
    "y_pred_en_proba = np.clip(y_pred_en, 0, 1)\n",
    "y_pred_rf_proba = np.clip(y_pred_rf, 0, 1)\n",
    "y_pred_lr_proba = np.clip(y_pred_lr, 0, 1)\n",
    "\n",
    "# Calculate metrics\n",
    "mse_en = mean_squared_error(y_test, y_pred_en)\n",
    "mse_rf = mean_squared_error(y_test, y_pred_rf)\n",
    "mse_lr = mean_squared_error(y_test, y_pred_lr)\n",
    "\n",
    "r2_en = r2_score(y_test, y_pred_en)\n",
    "r2_rf = r2_score(y_test, y_pred_rf)\n",
    "r2_lr = r2_score(y_test, y_pred_lr)\n",
    "\n",
    "mae_en = mean_absolute_error(y_test, y_pred_en)\n",
    "mae_rf = mean_absolute_error(y_test, y_pred_rf)\n",
    "mae_lr = mean_absolute_error(y_test, y_pred_lr)\n",
    "\n",
    "rmse_en = np.sqrt(mse_en)\n",
    "rmse_rf = np.sqrt(mse_rf)\n",
    "rmse_lr = np.sqrt(mse_lr)\n",
    "\n",
    "# If classification, compute ROC/AUC:\n",
    "fpr_en, tpr_en, thresh_en = roc_curve(y_test, y_pred_en_proba)\n",
    "fpr_rf, tpr_rf, thresh_rf = roc_curve(y_test, y_pred_rf_proba)\n",
    "fpr_lr, tpr_lr, thresh_lr = roc_curve(y_test, y_pred_lr_proba)\n",
    "\n",
    "roc_auc_en = auc(fpr_en, tpr_en)\n",
    "roc_auc_rf = auc(fpr_rf, tpr_rf)\n",
    "roc_auc_lr = auc(fpr_lr, tpr_lr)\n",
    "\n",
    "# Create DataFrame for regression metrics\n",
    "metrics_df = pd.DataFrame({\n",
    "    'Model': ['Elastic Net', 'Random Forest', 'Linear Regression'],\n",
    "    'MSE': [mse_en, mse_rf, mse_lr],\n",
    "    'R2': [r2_en, r2_rf, r2_lr],\n",
    "    'MAE': [mae_en, mae_rf, mae_lr],\n",
    "    'RMSE': [rmse_en, rmse_rf, rmse_lr]\n",
    "})\n",
    "\n",
    "# Melt into long format\n",
    "metrics_long = metrics_df.melt(id_vars='Model', var_name='Metric', value_name='Value')\n",
    "\n",
    "\n"
   ],
   "id": "420f3e3a5d1d2902",
   "outputs": [],
   "execution_count": 35
  },
  {
   "metadata": {
    "ExecuteTime": {
     "end_time": "2024-12-13T12:55:17.358879Z",
     "start_time": "2024-12-13T12:55:17.296637Z"
    }
   },
   "cell_type": "code",
   "source": [
    "# Create bar charts for each metric\n",
    "metrics_chart = alt.Chart(metrics_long).mark_bar().encode(\n",
    "    x=alt.X('Model:N', title='Model'),\n",
    "    y=alt.Y('Value:Q', title='Value'),\n",
    "    color='Model:N',\n",
    "    column='Metric:N',\n",
    "    tooltip=['Model', 'Metric', 'Value']\n",
    ").properties(\n",
    "    title='Model Performance Comparison'\n",
    ")\n",
    "\n",
    "# Create DataFrame for ROC curves\n",
    "roc_df = pd.DataFrame({\n",
    "    'False Positive Rate': np.concatenate([fpr_en, fpr_rf, fpr_lr]),\n",
    "    'True Positive Rate': np.concatenate([tpr_en, tpr_rf, tpr_lr]),\n",
    "    'Model': (['Elastic Net'] * len(fpr_en)) +\n",
    "             (['Random Forest'] * len(fpr_rf)) +\n",
    "             (['Linear Regression'] * len(fpr_lr))\n",
    "})\n",
    "\n",
    "# ROC curve chart\n",
    "roc_chart = alt.Chart(roc_df).mark_line().encode(\n",
    "    x=alt.X('False Positive Rate:Q', title='False Positive Rate'),\n",
    "    y=alt.Y('True Positive Rate:Q', title='True Positive Rate'),\n",
    "    color='Model:N',\n",
    "    tooltip=['Model', 'False Positive Rate', 'True Positive Rate']\n",
    ").properties(\n",
    "    title=f'ROC Curves (AUC - EN: {roc_auc_en:.2f}, RF: {roc_auc_rf:.2f}, LR: {roc_auc_lr:.2f})'\n",
    ")\n",
    "\n",
    "# Combine all charts\n",
    "# Top: Metrics charts (MSE, R2, MAE, RMSE in columns)\n",
    "# Bottom: ROC chart\n",
    "final_chart = (metrics_chart & roc_chart).resolve_scale(color='independent')\n",
    "final_chart\n"
   ],
   "id": "9ba8e06a9cd6f43",
   "outputs": [
    {
     "data": {
      "text/html": [
       "\n",
       "<style>\n",
       "  #altair-viz-efb2f133043e40ef87d18828d0a8ea05.vega-embed {\n",
       "    width: 100%;\n",
       "    display: flex;\n",
       "  }\n",
       "\n",
       "  #altair-viz-efb2f133043e40ef87d18828d0a8ea05.vega-embed details,\n",
       "  #altair-viz-efb2f133043e40ef87d18828d0a8ea05.vega-embed details summary {\n",
       "    position: relative;\n",
       "  }\n",
       "</style>\n",
       "<div id=\"altair-viz-efb2f133043e40ef87d18828d0a8ea05\"></div>\n",
       "<script type=\"text/javascript\">\n",
       "  var VEGA_DEBUG = (typeof VEGA_DEBUG == \"undefined\") ? {} : VEGA_DEBUG;\n",
       "  (function(spec, embedOpt){\n",
       "    let outputDiv = document.currentScript.previousElementSibling;\n",
       "    if (outputDiv.id !== \"altair-viz-efb2f133043e40ef87d18828d0a8ea05\") {\n",
       "      outputDiv = document.getElementById(\"altair-viz-efb2f133043e40ef87d18828d0a8ea05\");\n",
       "    }\n",
       "\n",
       "    const paths = {\n",
       "      \"vega\": \"https://cdn.jsdelivr.net/npm/vega@5?noext\",\n",
       "      \"vega-lib\": \"https://cdn.jsdelivr.net/npm/vega-lib?noext\",\n",
       "      \"vega-lite\": \"https://cdn.jsdelivr.net/npm/vega-lite@5.20.1?noext\",\n",
       "      \"vega-embed\": \"https://cdn.jsdelivr.net/npm/vega-embed@6?noext\",\n",
       "    };\n",
       "\n",
       "    function maybeLoadScript(lib, version) {\n",
       "      var key = `${lib.replace(\"-\", \"\")}_version`;\n",
       "      return (VEGA_DEBUG[key] == version) ?\n",
       "        Promise.resolve(paths[lib]) :\n",
       "        new Promise(function(resolve, reject) {\n",
       "          var s = document.createElement('script');\n",
       "          document.getElementsByTagName(\"head\")[0].appendChild(s);\n",
       "          s.async = true;\n",
       "          s.onload = () => {\n",
       "            VEGA_DEBUG[key] = version;\n",
       "            return resolve(paths[lib]);\n",
       "          };\n",
       "          s.onerror = () => reject(`Error loading script: ${paths[lib]}`);\n",
       "          s.src = paths[lib];\n",
       "        });\n",
       "    }\n",
       "\n",
       "    function showError(err) {\n",
       "      outputDiv.innerHTML = `<div class=\"error\" style=\"color:red;\">${err}</div>`;\n",
       "      throw err;\n",
       "    }\n",
       "\n",
       "    function displayChart(vegaEmbed) {\n",
       "      vegaEmbed(outputDiv, spec, embedOpt)\n",
       "        .catch(err => showError(`Javascript Error: ${err.message}<br>This usually means there's a typo in your chart specification. See the javascript console for the full traceback.`));\n",
       "    }\n",
       "\n",
       "    if(typeof define === \"function\" && define.amd) {\n",
       "      requirejs.config({paths});\n",
       "      let deps = [\"vega-embed\"];\n",
       "      require(deps, displayChart, err => showError(`Error loading script: ${err.message}`));\n",
       "    } else {\n",
       "      maybeLoadScript(\"vega\", \"5\")\n",
       "        .then(() => maybeLoadScript(\"vega-lite\", \"5.20.1\"))\n",
       "        .then(() => maybeLoadScript(\"vega-embed\", \"6\"))\n",
       "        .catch(showError)\n",
       "        .then(() => displayChart(vegaEmbed));\n",
       "    }\n",
       "  })({\"config\": {\"view\": {\"continuousWidth\": 300, \"continuousHeight\": 300}}, \"vconcat\": [{\"data\": {\"name\": \"data-fe36f1e1212354c5d1cc8427c6ce45d5\"}, \"mark\": {\"type\": \"bar\"}, \"encoding\": {\"color\": {\"field\": \"Model\", \"type\": \"nominal\"}, \"column\": {\"field\": \"Metric\", \"type\": \"nominal\"}, \"tooltip\": [{\"field\": \"Model\", \"type\": \"nominal\"}, {\"field\": \"Metric\", \"type\": \"nominal\"}, {\"field\": \"Value\", \"type\": \"quantitative\"}], \"x\": {\"field\": \"Model\", \"title\": \"Model\", \"type\": \"nominal\"}, \"y\": {\"field\": \"Value\", \"title\": \"Value\", \"type\": \"quantitative\"}}, \"title\": \"Model Performance Comparison\"}, {\"data\": {\"name\": \"data-53a6c1f87027d55c20baada94ba9d0f9\"}, \"mark\": {\"type\": \"line\"}, \"encoding\": {\"color\": {\"field\": \"Model\", \"type\": \"nominal\"}, \"tooltip\": [{\"field\": \"Model\", \"type\": \"nominal\"}, {\"field\": \"False Positive Rate\", \"type\": \"quantitative\"}, {\"field\": \"True Positive Rate\", \"type\": \"quantitative\"}], \"x\": {\"field\": \"False Positive Rate\", \"title\": \"False Positive Rate\", \"type\": \"quantitative\"}, \"y\": {\"field\": \"True Positive Rate\", \"title\": \"True Positive Rate\", \"type\": \"quantitative\"}}, \"title\": \"ROC Curves (AUC - EN: 0.36, RF: 0.43, LR: 0.40)\"}], \"resolve\": {\"scale\": {\"color\": \"independent\"}}, \"$schema\": \"https://vega.github.io/schema/vega-lite/v5.20.1.json\", \"datasets\": {\"data-fe36f1e1212354c5d1cc8427c6ce45d5\": [{\"Model\": \"Elastic Net\", \"Metric\": \"MSE\", \"Value\": 0.27692995607302073}, {\"Model\": \"Random Forest\", \"Metric\": \"MSE\", \"Value\": 0.5666666666666667}, {\"Model\": \"Linear Regression\", \"Metric\": \"MSE\", \"Value\": 0.6}, {\"Model\": \"Elastic Net\", \"Metric\": \"R2\", \"Value\": -0.12776905188108012}, {\"Model\": \"Random Forest\", \"Metric\": \"R2\", \"Value\": -1.307692307692308}, {\"Model\": \"Linear Regression\", \"Metric\": \"R2\", \"Value\": -1.44343891402715}, {\"Model\": \"Elastic Net\", \"Metric\": \"MAE\", \"Value\": 0.5189684030727811}, {\"Model\": \"Random Forest\", \"Metric\": \"MAE\", \"Value\": 0.5666666666666667}, {\"Model\": \"Linear Regression\", \"Metric\": \"MAE\", \"Value\": 0.6}, {\"Model\": \"Elastic Net\", \"Metric\": \"RMSE\", \"Value\": 0.5262413477417189}, {\"Model\": \"Random Forest\", \"Metric\": \"RMSE\", \"Value\": 0.752772652709081}, {\"Model\": \"Linear Regression\", \"Metric\": \"RMSE\", \"Value\": 0.7745966692414834}], \"data-53a6c1f87027d55c20baada94ba9d0f9\": [{\"False Positive Rate\": 0.0, \"True Positive Rate\": 0.0, \"Model\": \"Elastic Net\"}, {\"False Positive Rate\": 0.058823529411764705, \"True Positive Rate\": 0.0, \"Model\": \"Elastic Net\"}, {\"False Positive Rate\": 0.11764705882352941, \"True Positive Rate\": 0.0, \"Model\": \"Elastic Net\"}, {\"False Positive Rate\": 0.11764705882352941, \"True Positive Rate\": 0.07692307692307693, \"Model\": \"Elastic Net\"}, {\"False Positive Rate\": 0.17647058823529413, \"True Positive Rate\": 0.07692307692307693, \"Model\": \"Elastic Net\"}, {\"False Positive Rate\": 0.17647058823529413, \"True Positive Rate\": 0.15384615384615385, \"Model\": \"Elastic Net\"}, {\"False Positive Rate\": 0.23529411764705882, \"True Positive Rate\": 0.15384615384615385, \"Model\": \"Elastic Net\"}, {\"False Positive Rate\": 0.23529411764705882, \"True Positive Rate\": 0.23076923076923078, \"Model\": \"Elastic Net\"}, {\"False Positive Rate\": 0.5882352941176471, \"True Positive Rate\": 0.23076923076923078, \"Model\": \"Elastic Net\"}, {\"False Positive Rate\": 0.5882352941176471, \"True Positive Rate\": 0.3076923076923077, \"Model\": \"Elastic Net\"}, {\"False Positive Rate\": 0.7058823529411765, \"True Positive Rate\": 0.3076923076923077, \"Model\": \"Elastic Net\"}, {\"False Positive Rate\": 0.7058823529411765, \"True Positive Rate\": 0.38461538461538464, \"Model\": \"Elastic Net\"}, {\"False Positive Rate\": 0.7647058823529411, \"True Positive Rate\": 0.38461538461538464, \"Model\": \"Elastic Net\"}, {\"False Positive Rate\": 0.7647058823529411, \"True Positive Rate\": 0.5384615384615384, \"Model\": \"Elastic Net\"}, {\"False Positive Rate\": 0.8235294117647058, \"True Positive Rate\": 0.5384615384615384, \"Model\": \"Elastic Net\"}, {\"False Positive Rate\": 0.8235294117647058, \"True Positive Rate\": 0.9230769230769231, \"Model\": \"Elastic Net\"}, {\"False Positive Rate\": 0.8823529411764706, \"True Positive Rate\": 0.9230769230769231, \"Model\": \"Elastic Net\"}, {\"False Positive Rate\": 0.8823529411764706, \"True Positive Rate\": 1.0, \"Model\": \"Elastic Net\"}, {\"False Positive Rate\": 1.0, \"True Positive Rate\": 1.0, \"Model\": \"Elastic Net\"}, {\"False Positive Rate\": 0.0, \"True Positive Rate\": 0.0, \"Model\": \"Random Forest\"}, {\"False Positive Rate\": 0.5294117647058824, \"True Positive Rate\": 0.38461538461538464, \"Model\": \"Random Forest\"}, {\"False Positive Rate\": 1.0, \"True Positive Rate\": 1.0, \"Model\": \"Random Forest\"}, {\"False Positive Rate\": 0.0, \"True Positive Rate\": 0.0, \"Model\": \"Linear Regression\"}, {\"False Positive Rate\": 0.5882352941176471, \"True Positive Rate\": 0.38461538461538464, \"Model\": \"Linear Regression\"}, {\"False Positive Rate\": 1.0, \"True Positive Rate\": 1.0, \"Model\": \"Linear Regression\"}]}}, {\"mode\": \"vega-lite\"});\n",
       "</script>"
      ],
      "text/plain": [
       "alt.VConcatChart(...)"
      ]
     },
     "execution_count": 37,
     "metadata": {},
     "output_type": "execute_result"
    }
   ],
   "execution_count": 37
  },
  {
   "metadata": {
    "ExecuteTime": {
     "end_time": "2024-12-13T12:55:36.552611Z",
     "start_time": "2024-12-13T12:55:36.501906Z"
    }
   },
   "cell_type": "code",
   "source": [
    "# Save to HTML if the charts did not render in the notebook\n",
    "final_chart.save('./plots/metrics_comparison2.html')\n",
    "print(\"Charts saved to metrics_comparison2.html\")"
   ],
   "id": "9947d04ed702ed92",
   "outputs": [
    {
     "name": "stdout",
     "output_type": "stream",
     "text": [
      "Charts saved to metrics_comparison2.html\n"
     ]
    }
   ],
   "execution_count": 38
  },
  {
   "metadata": {},
   "cell_type": "markdown",
   "source": [
    "## Reinitialize models, retrain, adjust models if needed and generate new predictions. \n",
    "#### Make sure you normalize and QC the features thoroughly before using them as input in the model. Check the training/testing set and the distributions of key metrics."
   ],
   "id": "bd894e1426af4db8"
  },
  {
   "metadata": {
    "ExecuteTime": {
     "end_time": "2024-12-13T12:55:51.510682Z",
     "start_time": "2024-12-13T12:55:51.378180Z"
    }
   },
   "cell_type": "code",
   "source": [
    "# Initialize models\n",
    "elastic_net = ElasticNet(alpha=0.1, l1_ratio=0.5, random_state=42)\n",
    "random_forest = RandomForestRegressor(n_estimators=100, random_state=42)\n",
    "linear_reg = LinearRegression()\n",
    "\n",
    "# Fit models\n",
    "elastic_net.fit(X_train, y_train)\n",
    "random_forest.fit(X_train, y_train)\n",
    "linear_reg.fit(X_train, y_train)\n",
    "\n",
    "# Predict\n",
    "y_pred_en = elastic_net.predict(X_test)\n",
    "y_pred_rf = random_forest.predict(X_test)\n",
    "y_pred_lr = linear_reg.predict(X_test)"
   ],
   "id": "89ff8ae91b819cba",
   "outputs": [],
   "execution_count": 39
  },
  {
   "metadata": {},
   "cell_type": "markdown",
   "source": "",
   "id": "cc377b243b23992f"
  }
 ],
 "metadata": {
  "kernelspec": {
   "display_name": "Python 3",
   "language": "python",
   "name": "python3"
  },
  "language_info": {
   "codemirror_mode": {
    "name": "ipython",
    "version": 2
   },
   "file_extension": ".py",
   "mimetype": "text/x-python",
   "name": "python",
   "nbconvert_exporter": "python",
   "pygments_lexer": "ipython2",
   "version": "2.7.6"
  }
 },
 "nbformat": 4,
 "nbformat_minor": 5
}
